{
  "nbformat": 4,
  "nbformat_minor": 0,
  "metadata": {
    "colab": {
      "name": "VisiKomputer_UTS_23419025.ipynb",
      "provenance": [],
      "collapsed_sections": [],
      "authorship_tag": "ABX9TyPGBqVehGKOKnUBhBfdO+Cl",
      "include_colab_link": true
    },
    "kernelspec": {
      "name": "python3",
      "display_name": "Python 3"
    },
    "language_info": {
      "name": "python"
    }
  },
  "cells": [
    {
      "cell_type": "markdown",
      "metadata": {
        "id": "view-in-github",
        "colab_type": "text"
      },
      "source": [
        "<a href=\"https://colab.research.google.com/github/teighteen44/UTS/blob/main/VisiKomputer_UTS_23419025.ipynb\" target=\"_parent\"><img src=\"https://colab.research.google.com/assets/colab-badge.svg\" alt=\"Open In Colab\"/></a>"
      ]
    },
    {
      "cell_type": "code",
      "source": [
        "from copy import deepcopy\n",
        "\n",
        "kb = {}\n",
        "list_of_predicates = []\n",
        "list_of_explored_rules = []"
      ],
      "metadata": {
        "id": "mu_Qx7LmXlH4"
      },
      "execution_count": 1,
      "outputs": []
    },
    {
      "cell_type": "code",
      "source": [
        "def fetch_rules(goal):\n",
        "  global kb\n",
        "  global list_of_predicates\n",
        "  \n",
        "  print(\"fetch_rules for goal:- \", goal)\n",
        "  list_of_rules = []\n",
        "  predicate = goal.partition('(')[0]\n",
        "  print(\"\\t\", predicate, kb[predicate]['conc'])\n",
        "  list_of_rules = list_of_rules + kb[predicate]['conc']\n",
        "  return list_of_rules"
      ],
      "metadata": {
        "id": "CfqeG3QZXvBo"
      },
      "execution_count": 45,
      "outputs": []
    },
    {
      "cell_type": "code",
      "source": [
        "def subst(theta, first):\n",
        "  print(\"\\tsubst: \", theta, first)\n",
        "  predicate = first.partition('(')[0]\n",
        "  list = (first.partition('(')[-1].rpartition(')')[0]).split(',')\n",
        "  print(\"\\t\", list)\n",
        "  for i in range(len(list)):\n",
        "    if variable(list[i]):\n",
        "      if list[i] in theta:\n",
        "        list[i] = theta[list[i]]\n",
        "  print(\"\\t\", predicate + '(' + ','.join(list) + ')')\n",
        "  return predicate + '(' + ','.join(list) + ')'"
      ],
      "metadata": {
        "id": "9FnP9hxdYUn0"
      },
      "execution_count": 3,
      "outputs": []
    },
    {
      "cell_type": "code",
      "source": [
        "def variable(x):\n",
        "  if not isinstance(x, str):\n",
        "    return False\n",
        "  else:\n",
        "    if x.islower():\n",
        "      return True\n",
        "    else:\n",
        "      return False"
      ],
      "metadata": {
        "id": "5Hc1TjYhYfS6"
      },
      "execution_count": 4,
      "outputs": []
    },
    {
      "cell_type": "code",
      "source": [
        "def compound(x):\n",
        "  if not isinstance(x, str):\n",
        "    return False\n",
        "  else:\n",
        "      if '(' in x and ')' in x:\n",
        "        return True\n",
        "      else:\n",
        "        return False"
      ],
      "metadata": {
        "id": "y5HNGi47ZD1w"
      },
      "execution_count": 5,
      "outputs": []
    },
    {
      "cell_type": "code",
      "source": [
        "def list(x):\n",
        "  if not isinstance(x, str):\n",
        "    return True\n",
        "  else:\n",
        "    return False"
      ],
      "metadata": {
        "id": "vQzh7_e4Zz_k"
      },
      "execution_count": 6,
      "outputs": []
    },
    {
      "cell_type": "code",
      "source": [
        "def unify_var(var, x, theta):\n",
        "  print(\"IN unify_var\", var, x, theta)\n",
        "  if var in theta:\n",
        "    print(\"var in theta\", var, theta)\n",
        "    return unify(theta[var], x, theta)\n",
        "  elif x in theta:\n",
        "    print(\"x in theta\", x, theta)\n",
        "    return unify(var, theta[x], theta)\n",
        "  else:\n",
        "    theta[var] = x\n",
        "    print(\"not in theta\", theta[var])\n",
        "    return theta"
      ],
      "metadata": {
        "id": "xLpfF4-XZ_cD"
      },
      "execution_count": 7,
      "outputs": []
    },
    {
      "cell_type": "code",
      "source": [
        "def check_theta(theta):\n",
        "  for entry in theta:\n",
        "    if variable(theta[entry]):\n",
        "      if theta[entry] in theta:\n",
        "        print(\"in check_theta. theta changed\")\n",
        "        theta[entry] = theta[theta[entry]]\n",
        "  return theta"
      ],
      "metadata": {
        "id": "M7eZUknpaZKT"
      },
      "execution_count": 8,
      "outputs": []
    },
    {
      "cell_type": "code",
      "source": [
        "def unify(x, y, theta):\n",
        "  print(\"\\tunify\", x, y, theta)\n",
        "  if theta == None:\n",
        "    print(\"\\tin theta is None\")\n",
        "    return None\n",
        "  elif x == y:\n",
        "    print(\"\\tin x=y\")\n",
        "    return check_theta(theta)\n",
        "  elif variable(x) is True:\n",
        "    print(\"\\tin variable(x)\")\n",
        "    return unify_var(x, y, theta)\n",
        "  elif variable(y) is True:\n",
        "    print(\"\\tin variable(y)\")\n",
        "    return unify_var(y, x, theta)\n",
        "  elif compound(x) and compound(y):\n",
        "    print(\"\\tin compound\")\n",
        "    x_args = []\n",
        "    temp = x.partition('(')[-1].rpartition(')')[0]\n",
        "    for item in temp.split(','):\n",
        "      x_args.append(item)\n",
        "    y_args = []\n",
        "    temp = y.partition('(')[-1].rpartition(')')[0]\n",
        "    for item in temp.split(','):\n",
        "      y_args.append(item)\n",
        "    x_op = x.partition('(')[0]\n",
        "    y_op = y.partition('(')[0]\n",
        "    return unify(x_args, y_args, unify(x_op, y_op, theta))\n",
        "  elif list(x) and list(y):\n",
        "    print(\"\\tin list\")\n",
        "    return unify(x[1:], y[1:], unify(x[0], y[0], theta))\n",
        "  else:\n",
        "    print(\"\\tin else\")\n",
        "    return None"
      ],
      "metadata": {
        "id": "MP9hAsLca1OR"
      },
      "execution_count": 9,
      "outputs": []
    },
    {
      "cell_type": "code",
      "source": [
        "def fol_bc_ask(query, theta):\n",
        "  global kb\n",
        "  global list_of_predicates\n",
        "  global list_of_explored_rules\n",
        "\n",
        "  print(\"Backward Chaining\")\n",
        "  list_of_rules = fetch_rules(query)\n",
        "  for rule in list_of_rules:\n",
        "    print(\"taken RULE\", rule)\n",
        "    list_of_explored_rules = []\n",
        "    list_of_explored_rules.append(query)\n",
        "    print(\"\\t\",query, \"added to list_of_explored_rules\")\n",
        "    lhs = rule.partition('=>')[0]\n",
        "    rhs = rule.partition('=>')[2]\n",
        "    print(\"lhs: \", lhs, \" rhs: \", rhs)\n",
        "    print(\"theta in rule\", theta)\n",
        "    theta1 = unify(rhs, query, theta)\n",
        "    if theta1 != None:\n",
        "      list_of_premises = lhs.split('^')\n",
        "      print(\"list_of_premises: \", list_of_premises)\n",
        "      theta2 = fol_bc_and(theta1, list_of_premises)\n",
        "      if theta2 != None:\n",
        "        return theta2\n",
        "\n",
        "  print(\"None of the rules worked out\", query)\n",
        "  return None"
      ],
      "metadata": {
        "id": "AMrAUg6Eb1ut"
      },
      "execution_count": 43,
      "outputs": []
    },
    {
      "cell_type": "code",
      "source": [
        "def fol_bc_and(theta, list_of_premises):\n",
        "  global kb\n",
        "  global list_of_predicates\n",
        "\n",
        "  print(\"\\tand: \", list_of_premises)\n",
        "  print(\"\\ttheta: \", theta)\n",
        "  if theta == None:\n",
        "    return None\n",
        "  else:\n",
        "    if list_of_premises != []:\n",
        "      temp_list = []\n",
        "      for each_premise in list_of_premises:\n",
        "        temp = subst(theta, each_premise)\n",
        "        temp_list.append(temp)\n",
        "      list_of_premises = temp_list\n",
        "      first_premise = list_of_premises[0]\n",
        "      rest_premise = list_of_premises[1:]\n",
        "      subs = list_of_premises[0]\n",
        "      if subs != '()':\n",
        "        if subs in list_of_explored_rules:\n",
        "          print(subs, \" already in list_of_explored_rules\")\n",
        "          return None\n",
        "        else:\n",
        "          print(subs, \" added to list_of_explored_rules\")\n",
        "          list_of_explored_rules.append(subs)\n",
        "        theta = fol_bc_or_sub(subs, {}, rest_premise)\n",
        "      else:\n",
        "        return theta\n",
        "    return theta"
      ],
      "metadata": {
        "id": "VqtMWA4QeKit"
      },
      "execution_count": 11,
      "outputs": []
    },
    {
      "cell_type": "code",
      "source": [
        "def fol_bc_or_sub(query, theta, rest):\n",
        "  global kb\n",
        "  global list_of_predicates\n",
        "\n",
        "  print(\"\\tOR sub\")\n",
        "  list_of_rules = fetch_rules(query)\n",
        "  print(\"\\tLIST_OF_RULES\", list_of_rules)\n",
        "  for rule in list_of_rules:\n",
        "    print(\"\\tRULE\", rule)\n",
        "    lhs = rule.partition('=>')[0]\n",
        "    rhs = rule.partition('=>')[2]\n",
        "    print(\"\\n\\tlhs: \", lhs, \" rhs: \", rhs)\n",
        "    print(\"\\ntheta in rule\", theta)\n",
        "    theta1 = unify(rhs, query, deepcopy(theta))\n",
        "    if theta1 != None:\n",
        "      list_of_premises = lhs.split('^')\n",
        "      print(\"\\tlist_of_premises: \", list_of_premises)\n",
        "      theta2 = fol_bc_and(theta1, list_of_premises)\n",
        "      theta3 = fol_bc_and(theta2, rest)\n",
        "      if theta3 != None:\n",
        "        return theta3\n",
        "        \n",
        "  print(\"\\tNone of the rules worked out\", query)\n",
        "  return None"
      ],
      "metadata": {
        "id": "j05NzOunfZcT"
      },
      "execution_count": 12,
      "outputs": []
    },
    {
      "cell_type": "code",
      "source": [
        "def add_to_kb(knowledge_base):\n",
        "  global kb\n",
        "  global list_of_predicates\n",
        "\n",
        "  for sentence in knowledge_base:\n",
        "    if '=>' not in sentence:\n",
        "      predicate = sentence.partition('(')[0]\n",
        "      if predicate not in list_of_predicates:\n",
        "        conc = []\n",
        "        prem = []\n",
        "        conc.append(\"=>\" + sentence)\n",
        "        kb[predicate] = {'conc': conc, 'prem': prem}\n",
        "        list_of_predicates.append(predicate)\n",
        "      else:\n",
        "        conc = kb[predicate]['conc']\n",
        "        prem = kb[predicate]['prem']\n",
        "        conc.append(\"=>\" + sentence)\n",
        "        kb[predicate] = {'conc': conc, 'prem': prem}\n",
        "    else:\n",
        "      clauses = sentence.partition('=>')\n",
        "      list_of_premises = clauses[0].split('^')\n",
        "      conclusion = clauses[2]\n",
        "\n",
        "      # for conclusion\n",
        "      predicate = conclusion.partition('(')[0]\n",
        "      if predicate not in list_of_predicates:\n",
        "        conc = []\n",
        "        prem = []\n",
        "        conc.append(sentence)\n",
        "        kb[predicate] = {'conc': conc, 'prem': prem}\n",
        "        list_of_predicates.append(predicate)\n",
        "      else:\n",
        "        conc = kb[predicate]['conc']\n",
        "        prem = kb[predicate]['prem']\n",
        "        conc.append(sentence)\n",
        "        kb[predicate] = {'conc': conc, 'prem': prem}\n",
        "\n",
        "      # for list_of_premises\n",
        "      for premise in list_of_premises:\n",
        "        predicate = premise.partition('(')[0]\n",
        "        if predicate not in list_of_predicates:\n",
        "          conc = []\n",
        "          prem = []\n",
        "          prem.append(sentence)\n",
        "          kb[predicate] = {'conc': conc, 'prem': prem}\n",
        "          list_of_predicates.append(predicate)\n",
        "        else:\n",
        "          conc = kb[predicate]['conc']\n",
        "          prem = kb[predicate]['prem']\n",
        "          prem.append(sentence)\n",
        "          kb[predicate] = {'conc': conc, 'prem': prem}"
      ],
      "metadata": {
        "id": "Kf8x709cf9wi"
      },
      "execution_count": 13,
      "outputs": []
    },
    {
      "cell_type": "code",
      "source": [
        "def variable(x):\n",
        "  if not isinstance(x, str):\n",
        "    return False\n",
        "  else:\n",
        "    if x.islower():\n",
        "      return True\n",
        "    else:\n",
        "      return False"
      ],
      "metadata": {
        "id": "o8-rmdGihp_I"
      },
      "execution_count": 14,
      "outputs": []
    },
    {
      "cell_type": "code",
      "source": [
        "def standardize_variables(knowledge_base):\n",
        "  label = 0\n",
        "  result_knowledge_base = []\n",
        "  for rule in knowledge_base:\n",
        "    variable_names = {}\n",
        "    lhs = rule.partition('=>')[0]\n",
        "    rhs = rule.partition('=>')[2]\n",
        "    premise = []\n",
        "    for x in lhs.split('^'):\n",
        "      premise.append(x)\n",
        "    result_premise = \"\"\n",
        "    for term in premise:\n",
        "      args = []\n",
        "      result_term = \"\" + term.partition('(')[0]\n",
        "      temp = term.partition('(')[-1].rpartition(')')[0]\n",
        "      result_item = \"\"\n",
        "      for item in temp.split(','):\n",
        "        args.append(item)\n",
        "        if variable(item):\n",
        "          if item not in variable_names:\n",
        "            variable_names[item] = \"x\" + repr(label)\n",
        "            item = \"x\" + repr(label)\n",
        "            label = label + 1\n",
        "          else:\n",
        "            item = variable_names[item]\n",
        "      result_item = result_item + item + \",\"\n",
        "    result_item = result_item[:len(result_item) - 1]\n",
        "    result_term = result_term + '(' + result_item + ')' + '^'\n",
        "    result_premise = result_premise + result_term\n",
        "  result_premise = result_premise[:len(result_premise) - 1]\n",
        "\n",
        "  conclusion = []\n",
        "  for x in rhs.split('^'):\n",
        "    conclusion.append(x)\n",
        "  if conclusion != ['']:\n",
        "    result_premise = result_premise + \"=>\"\n",
        "    for term in conclusion:\n",
        "      args = []\n",
        "      result_term = \"\" + term.partition('(')[0]\n",
        "      temp = term.partition('(')[-1].rpartition(')')[0]\n",
        "      result_item = \"\"\n",
        "      for item in temp.split(','):\n",
        "        args.append(item)\n",
        "        if variable(item):\n",
        "          if item not in variable_names:\n",
        "            variable_names[item] = \"x\" + repr(label)\n",
        "            item = \"x\" + repr(label)\n",
        "            label = label + 1\n",
        "          else:\n",
        "            item = variable_names[item]\n",
        "        result_item = result_item + item + \",\"\n",
        "      result_item = result_item[:len(result_item) - 1]\n",
        "      result_term = result_term + '(' + result_item + ')' + '^'\n",
        "      result_premise = result_premise + result_term\n",
        "    result_premise = result_premise[:len(result_premise) - 1]\n",
        "\n",
        "  result_knowledge_base.append(result_premise)\n",
        "  return result_knowledge_base"
      ],
      "metadata": {
        "id": "18eYsHZXkNPe"
      },
      "execution_count": 15,
      "outputs": []
    },
    {
      "cell_type": "code",
      "source": [
        "#Main\n",
        "\n",
        "fn=\"input.txt\"\n",
        "queries = []\n",
        "knowledge_base = []\n",
        "f1=open(fn, \"r\")\n",
        "input = f1.readlines()\n",
        "input = [x.strip() for x in input]\n",
        "for i in range(1, int(input[0]) + 1):\n",
        "  queries.append(input[i].replace(\" \", \"\"))\n",
        "for i in range(int(input[0]) + 2, int(input[int(input[0]) + 1]) + int(input[0]) + 2):\n",
        "  knowledge_base.append(input[i].replace(\" \", \"\"))\n",
        "knowledge_base = standardize_variables(knowledge_base)"
      ],
      "metadata": {
        "id": "rWegWSIjnsPM"
      },
      "execution_count": 17,
      "outputs": []
    },
    {
      "cell_type": "code",
      "source": [
        "kb = {}\n",
        "list_of_predicates = []\n",
        "add_to_kb(knowledge_base)\n",
        "\n",
        "fileOut = open(\"output.txt\", \"w\")\n",
        "for query in queries:\n",
        "  result = fol_bc_ask(query, {})\n",
        "  if result != None:\n",
        "    print(\"True\", result)\n",
        "    fileOut.write(\"TRUE\" + \"\\n\")\n",
        "  else:\n",
        "    print(\"False\", result)\n",
        "    fileOut.write(\"FALSE\" + \"\\n\")\n",
        "\n",
        "fileOut.close()\n",
        "f1.close"
      ],
      "metadata": {
        "id": "iWQ6HYndoUX8",
        "colab": {
          "base_uri": "https://localhost:8080/",
          "height": 536
        },
        "outputId": "5419b028-74b2-4d39-addd-346697e159f6"
      },
      "execution_count": 47,
      "outputs": [
        {
          "output_type": "stream",
          "name": "stdout",
          "text": [
            "Backward Chaining\n",
            "fetch_rules for goal:-  B(John,Bob)\n"
          ]
        },
        {
          "output_type": "error",
          "ename": "KeyError",
          "evalue": "ignored",
          "traceback": [
            "\u001b[0;31m---------------------------------------------------------------------------\u001b[0m",
            "\u001b[0;31mKeyError\u001b[0m                                  Traceback (most recent call last)",
            "\u001b[0;32m<ipython-input-47-c75999b9709c>\u001b[0m in \u001b[0;36m<module>\u001b[0;34m()\u001b[0m\n\u001b[1;32m      5\u001b[0m \u001b[0mfileOut\u001b[0m \u001b[0;34m=\u001b[0m \u001b[0mopen\u001b[0m\u001b[0;34m(\u001b[0m\u001b[0;34m\"output.txt\"\u001b[0m\u001b[0;34m,\u001b[0m \u001b[0;34m\"w\"\u001b[0m\u001b[0;34m)\u001b[0m\u001b[0;34m\u001b[0m\u001b[0;34m\u001b[0m\u001b[0m\n\u001b[1;32m      6\u001b[0m \u001b[0;32mfor\u001b[0m \u001b[0mquery\u001b[0m \u001b[0;32min\u001b[0m \u001b[0mqueries\u001b[0m\u001b[0;34m:\u001b[0m\u001b[0;34m\u001b[0m\u001b[0;34m\u001b[0m\u001b[0m\n\u001b[0;32m----> 7\u001b[0;31m   \u001b[0mresult\u001b[0m \u001b[0;34m=\u001b[0m \u001b[0mfol_bc_ask\u001b[0m\u001b[0;34m(\u001b[0m\u001b[0mquery\u001b[0m\u001b[0;34m,\u001b[0m \u001b[0;34m{\u001b[0m\u001b[0;34m}\u001b[0m\u001b[0;34m)\u001b[0m\u001b[0;34m\u001b[0m\u001b[0;34m\u001b[0m\u001b[0m\n\u001b[0m\u001b[1;32m      8\u001b[0m   \u001b[0;32mif\u001b[0m \u001b[0mresult\u001b[0m \u001b[0;34m!=\u001b[0m \u001b[0;32mNone\u001b[0m\u001b[0;34m:\u001b[0m\u001b[0;34m\u001b[0m\u001b[0;34m\u001b[0m\u001b[0m\n\u001b[1;32m      9\u001b[0m     \u001b[0mprint\u001b[0m\u001b[0;34m(\u001b[0m\u001b[0;34m\"True\"\u001b[0m\u001b[0;34m,\u001b[0m \u001b[0mresult\u001b[0m\u001b[0;34m)\u001b[0m\u001b[0;34m\u001b[0m\u001b[0;34m\u001b[0m\u001b[0m\n",
            "\u001b[0;32m<ipython-input-43-e15d5d0c1f2f>\u001b[0m in \u001b[0;36mfol_bc_ask\u001b[0;34m(query, theta)\u001b[0m\n\u001b[1;32m      5\u001b[0m \u001b[0;34m\u001b[0m\u001b[0m\n\u001b[1;32m      6\u001b[0m   \u001b[0mprint\u001b[0m\u001b[0;34m(\u001b[0m\u001b[0;34m\"Backward Chaining\"\u001b[0m\u001b[0;34m)\u001b[0m\u001b[0;34m\u001b[0m\u001b[0;34m\u001b[0m\u001b[0m\n\u001b[0;32m----> 7\u001b[0;31m   \u001b[0mlist_of_rules\u001b[0m \u001b[0;34m=\u001b[0m \u001b[0mfetch_rules\u001b[0m\u001b[0;34m(\u001b[0m\u001b[0mquery\u001b[0m\u001b[0;34m)\u001b[0m\u001b[0;34m\u001b[0m\u001b[0;34m\u001b[0m\u001b[0m\n\u001b[0m\u001b[1;32m      8\u001b[0m   \u001b[0;32mfor\u001b[0m \u001b[0mrule\u001b[0m \u001b[0;32min\u001b[0m \u001b[0mlist_of_rules\u001b[0m\u001b[0;34m:\u001b[0m\u001b[0;34m\u001b[0m\u001b[0;34m\u001b[0m\u001b[0m\n\u001b[1;32m      9\u001b[0m     \u001b[0mprint\u001b[0m\u001b[0;34m(\u001b[0m\u001b[0;34m\"taken RULE\"\u001b[0m\u001b[0;34m,\u001b[0m \u001b[0mrule\u001b[0m\u001b[0;34m)\u001b[0m\u001b[0;34m\u001b[0m\u001b[0;34m\u001b[0m\u001b[0m\n",
            "\u001b[0;32m<ipython-input-45-f27f5aae2bda>\u001b[0m in \u001b[0;36mfetch_rules\u001b[0;34m(goal)\u001b[0m\n\u001b[1;32m      6\u001b[0m   \u001b[0mlist_of_rules\u001b[0m \u001b[0;34m=\u001b[0m \u001b[0;34m[\u001b[0m\u001b[0;34m]\u001b[0m\u001b[0;34m\u001b[0m\u001b[0;34m\u001b[0m\u001b[0m\n\u001b[1;32m      7\u001b[0m   \u001b[0mpredicate\u001b[0m \u001b[0;34m=\u001b[0m \u001b[0mgoal\u001b[0m\u001b[0;34m.\u001b[0m\u001b[0mpartition\u001b[0m\u001b[0;34m(\u001b[0m\u001b[0;34m'('\u001b[0m\u001b[0;34m)\u001b[0m\u001b[0;34m[\u001b[0m\u001b[0;36m0\u001b[0m\u001b[0;34m]\u001b[0m\u001b[0;34m\u001b[0m\u001b[0;34m\u001b[0m\u001b[0m\n\u001b[0;32m----> 8\u001b[0;31m   \u001b[0mprint\u001b[0m\u001b[0;34m(\u001b[0m\u001b[0;34m\"\\t\"\u001b[0m\u001b[0;34m,\u001b[0m \u001b[0mpredicate\u001b[0m\u001b[0;34m,\u001b[0m \u001b[0mkb\u001b[0m\u001b[0;34m[\u001b[0m\u001b[0mpredicate\u001b[0m\u001b[0;34m]\u001b[0m\u001b[0;34m[\u001b[0m\u001b[0;34m'conc'\u001b[0m\u001b[0;34m]\u001b[0m\u001b[0;34m)\u001b[0m\u001b[0;34m\u001b[0m\u001b[0;34m\u001b[0m\u001b[0m\n\u001b[0m\u001b[1;32m      9\u001b[0m   \u001b[0mlist_of_rules\u001b[0m \u001b[0;34m=\u001b[0m \u001b[0mlist_of_rules\u001b[0m \u001b[0;34m+\u001b[0m \u001b[0mkb\u001b[0m\u001b[0;34m[\u001b[0m\u001b[0mpredicate\u001b[0m\u001b[0;34m]\u001b[0m\u001b[0;34m[\u001b[0m\u001b[0;34m'conc'\u001b[0m\u001b[0;34m]\u001b[0m\u001b[0;34m\u001b[0m\u001b[0;34m\u001b[0m\u001b[0m\n\u001b[1;32m     10\u001b[0m   \u001b[0;32mreturn\u001b[0m \u001b[0mlist_of_rules\u001b[0m\u001b[0;34m\u001b[0m\u001b[0;34m\u001b[0m\u001b[0m\n",
            "\u001b[0;31mKeyError\u001b[0m: 'B'"
          ]
        }
      ]
    }
  ]
}