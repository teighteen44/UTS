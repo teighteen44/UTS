{
  "nbformat": 4,
  "nbformat_minor": 0,
  "metadata": {
    "colab": {
      "name": "Deep Learning.ipynb",
      "provenance": [],
      "authorship_tag": "ABX9TyPJzylTGBy2jacLymHa1NHK",
      "include_colab_link": true
    },
    "kernelspec": {
      "name": "python3",
      "display_name": "Python 3"
    },
    "language_info": {
      "name": "python"
    }
  },
  "cells": [
    {
      "cell_type": "markdown",
      "metadata": {
        "id": "view-in-github",
        "colab_type": "text"
      },
      "source": [
        "<a href=\"https://colab.research.google.com/github/teighteen44/UTS/blob/main/Deep_Learning.ipynb\" target=\"_parent\"><img src=\"https://colab.research.google.com/assets/colab-badge.svg\" alt=\"Open In Colab\"/></a>"
      ]
    },
    {
      "cell_type": "markdown",
      "source": [
        "Deteksi penyakit diabetes dengan Deep Learning"
      ],
      "metadata": {
        "id": "Rr3E-6mgncYl"
      }
    },
    {
      "cell_type": "code",
      "execution_count": 6,
      "metadata": {
        "id": "rUJqOL-siZR1"
      },
      "outputs": [],
      "source": [
        "import pandas as pd\n",
        "import numpy as np\n",
        "\n",
        "df = pd.read_csv('./diabetes_latih.csv')\n",
        "\n",
        "X_train = df.values\n",
        "X_train = np.delete(X_train,8,axis=1)\n",
        "\n",
        "y_train = df['Outcome'].values\n",
        "\n",
        "df = pd.read_csv('./diabetes_uji.csv')\n",
        "\n",
        "X_test = df.values\n",
        "X_test = np.delete(X_test,8,axis=1)\n",
        "\n",
        "y_test = df['Outcome'].values\n",
        "\n",
        "#df.head()\n",
        "#print(X_train)"
      ]
    },
    {
      "cell_type": "code",
      "source": [
        "from sklearn.preprocessing import MinMaxScaler\n",
        "\n",
        "X_train = MinMaxScaler().fit_transform(X_train)\n",
        "X_test = MinMaxScaler().fit_transform(X_test)\n",
        "\n",
        "print(X_train)"
      ],
      "metadata": {
        "colab": {
          "base_uri": "https://localhost:8080/"
        },
        "id": "_QonYpUNlC7w",
        "outputId": "39eceb0c-7b58-40d5-b7c1-e9bdf71fd156"
      },
      "execution_count": 7,
      "outputs": [
        {
          "output_type": "stream",
          "name": "stdout",
          "text": [
            "[[0.47058824 0.94472362 0.68421053 ... 0.71385991 0.02519214 0.36666667]\n",
            " [0.41176471 0.7638191  0.77192982 ... 0.74515648 0.11058924 0.25      ]\n",
            " [0.11764706 0.49748744 0.45614035 ... 0.36661699 0.23868488 0.        ]\n",
            " ...\n",
            " [0.29411765 0.6080402  0.63157895 ... 0.390462   0.07130658 0.15      ]\n",
            " [0.05882353 0.63316583 0.52631579 ... 0.4485842  0.11571307 0.43333333]\n",
            " [0.05882353 0.46733668 0.61403509 ... 0.45305514 0.10119556 0.03333333]]\n"
          ]
        }
      ]
    },
    {
      "cell_type": "code",
      "source": [
        "from sklearn.neural_network import MLPClassifier\n",
        "\n",
        "clf = MLPClassifier(hidden_layer_sizes=3,learning_rate_init=0.1,max_iter=100)\n",
        "\n",
        "clf.fit(X_train, y_train)"
      ],
      "metadata": {
        "colab": {
          "base_uri": "https://localhost:8080/"
        },
        "id": "LsZPbb4VlEmM",
        "outputId": "8e111d09-f78f-4938-d170-22b555ae1762"
      },
      "execution_count": 8,
      "outputs": [
        {
          "output_type": "execute_result",
          "data": {
            "text/plain": [
              "MLPClassifier(hidden_layer_sizes=3, learning_rate_init=0.1, max_iter=100)"
            ]
          },
          "metadata": {},
          "execution_count": 8
        }
      ]
    },
    {
      "cell_type": "code",
      "source": [
        "y_pred = clf.predict(X_test)"
      ],
      "metadata": {
        "id": "oSE9NNVvkh_Y"
      },
      "execution_count": 9,
      "outputs": []
    },
    {
      "cell_type": "code",
      "source": [
        "from sklearn.metrics import accuracy_score\n",
        "\n",
        "round(accuracy_score(y_test,y_pred),3)"
      ],
      "metadata": {
        "colab": {
          "base_uri": "https://localhost:8080/"
        },
        "id": "q1hjq0KHnA7I",
        "outputId": "973d4485-3d06-40ba-87a0-1df77c179ca1"
      },
      "execution_count": 10,
      "outputs": [
        {
          "output_type": "execute_result",
          "data": {
            "text/plain": [
              "0.688"
            ]
          },
          "metadata": {},
          "execution_count": 10
        }
      ]
    },
    {
      "cell_type": "code",
      "source": [
        "df.info()"
      ],
      "metadata": {
        "colab": {
          "base_uri": "https://localhost:8080/"
        },
        "id": "qPTKDgFDnFjS",
        "outputId": "b5ff3749-b0dd-4e1c-a0ef-af97c56d22f6"
      },
      "execution_count": 11,
      "outputs": [
        {
          "output_type": "stream",
          "name": "stdout",
          "text": [
            "<class 'pandas.core.frame.DataFrame'>\n",
            "RangeIndex: 154 entries, 0 to 153\n",
            "Data columns (total 9 columns):\n",
            " #   Column                    Non-Null Count  Dtype  \n",
            "---  ------                    --------------  -----  \n",
            " 0   Pregnancies               154 non-null    int64  \n",
            " 1   Glucose                   154 non-null    int64  \n",
            " 2   BloodPressure             154 non-null    int64  \n",
            " 3   SkinThickness             154 non-null    int64  \n",
            " 4   Insulin                   154 non-null    int64  \n",
            " 5   BMI                       154 non-null    float64\n",
            " 6   DiabetesPedigreeFunction  154 non-null    float64\n",
            " 7   Age                       154 non-null    int64  \n",
            " 8   Outcome                   154 non-null    int64  \n",
            "dtypes: float64(2), int64(7)\n",
            "memory usage: 11.0 KB\n"
          ]
        }
      ]
    }
  ]
}